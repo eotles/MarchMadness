{
 "cells": [
  {
   "cell_type": "code",
   "execution_count": 1,
   "metadata": {
    "collapsed": true
   },
   "outputs": [],
   "source": [
    "import pandas as pd\n",
    "scoreDataFp = '/Users/eotles/Documents/workspace/Bracketology - March Madness/2k16/ScoreData_2k16.csv'\n",
    "teamDataFp  = '/Users/eotles/Documents/workspace/Bracketology - March Madness/2k16/TeamData_2k16.csv'"
   ]
  },
  {
   "cell_type": "code",
   "execution_count": 2,
   "metadata": {
    "collapsed": false
   },
   "outputs": [
    {
     "data": {
      "text/html": [
       "<div>\n",
       "<table border=\"1\" class=\"dataframe\">\n",
       "  <thead>\n",
       "    <tr style=\"text-align: right;\">\n",
       "      <th></th>\n",
       "      <th>Date</th>\n",
       "      <th>Team 1</th>\n",
       "      <th>Team 1 Score</th>\n",
       "      <th>Team 2</th>\n",
       "      <th>Team 2 Score</th>\n",
       "      <th>Unnamed: 5</th>\n",
       "    </tr>\n",
       "  </thead>\n",
       "  <tbody>\n",
       "    <tr>\n",
       "      <th>0</th>\n",
       "      <td>9/25/15</td>\n",
       "      <td>Lakehead</td>\n",
       "      <td>88</td>\n",
       "      <td>Manitoba</td>\n",
       "      <td>81</td>\n",
       "      <td>NaN</td>\n",
       "    </tr>\n",
       "    <tr>\n",
       "      <th>1</th>\n",
       "      <td>9/26/15</td>\n",
       "      <td>Lakehead</td>\n",
       "      <td>80</td>\n",
       "      <td>Manitoba</td>\n",
       "      <td>73</td>\n",
       "      <td>NaN</td>\n",
       "    </tr>\n",
       "    <tr>\n",
       "      <th>2</th>\n",
       "      <td>10/1/15</td>\n",
       "      <td>Lakehead</td>\n",
       "      <td>78</td>\n",
       "      <td>Winnipeg</td>\n",
       "      <td>73</td>\n",
       "      <td>NaN</td>\n",
       "    </tr>\n",
       "    <tr>\n",
       "      <th>3</th>\n",
       "      <td>10/2/15</td>\n",
       "      <td>Concordia QC</td>\n",
       "      <td>77</td>\n",
       "      <td>Queen's ON</td>\n",
       "      <td>76</td>\n",
       "      <td>NaN</td>\n",
       "    </tr>\n",
       "    <tr>\n",
       "      <th>4</th>\n",
       "      <td>10/2/15</td>\n",
       "      <td>Winnipeg</td>\n",
       "      <td>76</td>\n",
       "      <td>Lakehead</td>\n",
       "      <td>73</td>\n",
       "      <td>NaN</td>\n",
       "    </tr>\n",
       "  </tbody>\n",
       "</table>\n",
       "</div>"
      ],
      "text/plain": [
       "      Date        Team 1  Team 1 Score      Team 2  Team 2 Score Unnamed: 5\n",
       "0  9/25/15      Lakehead            88    Manitoba            81        NaN\n",
       "1  9/26/15      Lakehead            80    Manitoba            73        NaN\n",
       "2  10/1/15      Lakehead            78    Winnipeg            73        NaN\n",
       "3  10/2/15  Concordia QC            77  Queen's ON            76        NaN\n",
       "4  10/2/15      Winnipeg            76    Lakehead            73        NaN"
      ]
     },
     "execution_count": 2,
     "metadata": {},
     "output_type": "execute_result"
    }
   ],
   "source": [
    "data = pd.read_csv(scoreDataFp)\n",
    "#ignore home/away\n",
    "for team_col in ['Team 1', 'Team 2']:\n",
    "    data[team_col] = data[team_col].str.replace('@', '')\n",
    "data.head()"
   ]
  },
  {
   "cell_type": "code",
   "execution_count": 12,
   "metadata": {
    "collapsed": true
   },
   "outputs": [],
   "source": [
    "team_data = pd.read_csv(teamDataFp)\n",
    "teams = list(team_data['Team Name'].unique())"
   ]
  },
  {
   "cell_type": "code",
   "execution_count": 5,
   "metadata": {
    "collapsed": false
   },
   "outputs": [],
   "source": [
    "class score_keeper(object):\n",
    "    def __init__(self):\n",
    "        self.score_dict = {}\n",
    "    \n",
    "    def add_game(self, game):\n",
    "        for team1, _ in game.iteritems():\n",
    "            for team2, score2 in game.iteritems():\n",
    "                self._add_score(team1, team2, score2)\n",
    "    \n",
    "    #team 1 gives points to team 2\n",
    "    def _add_score(self, team1, team2, score):\n",
    "        if(self.score_dict.has_key(team1) == False):\n",
    "            self.score_dict[team1] = {}\n",
    "        if(self.score_dict[team1].has_key(team2) == False):\n",
    "            self.score_dict[team1][team2] = 0\n",
    "        self.score_dict[team1][team2] += score\n",
    "        \n",
    "scores = score_keeper()\n",
    "\n",
    "for row_idx, row in enumerate(data.itertuples()):\n",
    "    if(row[2] in teams and row[4] in teams):\n",
    "        game = {row[2]: int(row[3]), \n",
    "                row[4]: int(row[5])}\n",
    "        scores.add_game(game)"
   ]
  },
  {
   "cell_type": "code",
   "execution_count": 9,
   "metadata": {
    "collapsed": false
   },
   "outputs": [],
   "source": [
    "score_data = pd.DataFrame(scores.score_dict).fillna(0)\n",
    "score_data = score_data.div(score_data.sum(axis=1), axis=0)\n",
    "\n",
    "conv = score_data\n",
    "for _ in xrange(50):\n",
    "    conv = conv.dot(conv)"
   ]
  },
  {
   "cell_type": "code",
   "execution_count": 37,
   "metadata": {
    "collapsed": false
   },
   "outputs": [
    {
     "name": "stdout",
     "output_type": "stream",
     "text": [
      "                 PowerRank\n",
      "Arizona           0.022868\n",
      "Ark Little Rock   0.002995\n",
      "Austin Peay       0.004256\n",
      "Baylor            0.029942\n",
      "Buffalo           0.006025\n",
      "Butler            0.021720\n",
      "California        0.022198\n",
      "Chattanooga       0.003333\n",
      "Cincinnati        0.018874\n",
      "Colorado          0.021229\n",
      "Connecticut       0.021668\n",
      "Dayton            0.008481\n",
      "Duke              0.023864\n",
      "F Dickinson       0.003971\n",
      "FL Gulf Coast     0.003668\n",
      "Fresno St         0.003615\n",
      "Gonzaga           0.004599\n",
      "Hampton           0.002241\n",
      "Hawaii            0.004966\n",
      "Holy Cross        0.001868\n",
      "Indiana           0.021770\n",
      "Iona              0.004449\n",
      "Iowa              0.023248\n",
      "Iowa St           0.036529\n",
      "Kansas            0.030539\n",
      "Kentucky          0.009743\n",
      "MTSU              0.003536\n",
      "Maryland          0.019785\n",
      "Miami FL          0.016208\n",
      "Michigan          0.024086\n",
      "Michigan St       0.019175\n",
      "North Carolina    0.024152\n",
      "Northern Iowa     0.011033\n",
      "Notre Dame        0.020333\n",
      "Oklahoma          0.027044\n",
      "Oregon            0.025358\n",
      "Oregon St         0.025318\n",
      "Pittsburgh        0.015293\n",
      "Providence        0.019248\n",
      "Purdue            0.024144\n",
      "SF Austin         0.003995\n",
      "Seton Hall        0.018281\n",
      "South Dakota      0.002035\n",
      "Stony Brook       0.003874\n",
      "Syracuse          0.018462\n",
      "Temple            0.022702\n",
      "Texas             0.029342\n",
      "Texas A&M         0.017571\n",
      "Texas Tech        0.024224\n",
      "Tulsa             0.017579\n",
      "UNC Asheville     0.003505\n",
      "USC               0.024108\n",
      "Utah              0.028726\n",
      "VA Commonwealth   0.010693\n",
      "Vanderbilt        0.017493\n",
      "Villanova         0.022166\n",
      "Virginia          0.016329\n",
      "WI Green Bay      0.001916\n",
      "West Virginia     0.023470\n",
      "Wichita St        0.012606\n",
      "Wisconsin         0.023317\n",
      "Xavier            0.022023\n",
      "Yale              0.003498\n"
     ]
    }
   ],
   "source": [
    "#Power Rankings\n",
    "conv_info = pd.DataFrame(conv.ix[1])\n",
    "conv_info = conv_info.rename(columns={'Ark Little Rock': 'PowerRank'})\n",
    "#.sort_values(ascending=False)\n",
    "pd.set_option('display.max_rows', len(conv_info))\n",
    "print(conv_info)\n",
    "pd.reset_option('display.max_rows')"
   ]
  }
 ],
 "metadata": {
  "kernelspec": {
   "display_name": "Python 2",
   "language": "python",
   "name": "python2"
  },
  "language_info": {
   "codemirror_mode": {
    "name": "ipython",
    "version": 2
   },
   "file_extension": ".py",
   "mimetype": "text/x-python",
   "name": "python",
   "nbconvert_exporter": "python",
   "pygments_lexer": "ipython2",
   "version": "2.7.10"
  }
 },
 "nbformat": 4,
 "nbformat_minor": 0
}
